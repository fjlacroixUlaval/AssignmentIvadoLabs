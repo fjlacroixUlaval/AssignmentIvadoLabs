{
  "nbformat": 4,
  "nbformat_minor": 0,
  "metadata": {
    "colab": {
      "name": "IvadoLabs_assignment_FJL.ipynb",
      "provenance": [],
      "collapsed_sections": []
    },
    "kernelspec": {
      "name": "python3",
      "display_name": "Python 3"
    }
  },
  "cells": [
    {
      "cell_type": "markdown",
      "metadata": {
        "id": "uEyxhtiaQStG",
        "colab_type": "text"
      },
      "source": [
        "# IVADO Labs assignment\n",
        "##François-Joseph Lacroix"
      ]
    },
    {
      "cell_type": "code",
      "metadata": {
        "id": "_r3NX8CQYtHd",
        "colab_type": "code",
        "colab": {}
      },
      "source": [
        "import requests\n",
        "import pandas as pd\n",
        "import numpy as np\n",
        "from bs4 import BeautifulSoup\n",
        "from datetime import datetime, timedelta\n",
        "import matplotlib.pyplot as plt\n"
      ],
      "execution_count": 0,
      "outputs": []
    },
    {
      "cell_type": "markdown",
      "metadata": {
        "id": "_IXtwB5JQwsc",
        "colab_type": "text"
      },
      "source": [
        "# Data fetching\n"
      ]
    },
    {
      "cell_type": "code",
      "metadata": {
        "id": "0bmSoHFVJF5_",
        "colab_type": "code",
        "colab": {}
      },
      "source": [
        "class WikipediaTable:\n",
        "\n",
        "  def __init__(self, soupTable):\n",
        "    self.soupTable = soupTable\n",
        "    self.columns = ['MuseumName', 'MuseumNameRef', 'City', 'CityRef', 'VisitorsPerYear', 'ReferenceYear']\n",
        "    self.museumNames = []\n",
        "    self.museumNamesRef = []\n",
        "    self.cities = []\n",
        "    self.citiesRef = []\n",
        "    self.nbVisitors = []\n",
        "    self.referenceYears = []\n",
        "    self.contents = {}\n",
        "\n",
        "    self.buildContents()\n",
        "    self.pdTable = pd.DataFrame(self.contents, columns = self.columns)\n",
        "\n",
        "\n",
        "  def buildContents(self):\n",
        "    rows = self.soupTable.find_all('tr')\n",
        "    del rows[0]\n",
        "\n",
        "    for row in rows:\n",
        "      self.buildRow(row)\n",
        "\n",
        "    self.contents[self.columns[0]] = self.museumNames\n",
        "    self.contents[self.columns[1]] = self.museumNamesRef\n",
        "    self.contents[self.columns[2]] = self.cities\n",
        "    self.contents[self.columns[3]] = self.citiesRef\n",
        "    self.contents[self.columns[4]] = self.nbVisitors\n",
        "    self.contents[self.columns[5]] = self.referenceYears\n",
        "\n",
        "\n",
        "\n",
        "  def buildRow(self, row):\n",
        "\n",
        "    #Find all columns in this row\n",
        "    data = row.find_all('td')\n",
        "\n",
        "    #Extract data and metadata from each column\n",
        "    museumNameData = data[0].find('a', href=True, recursive=False)\n",
        "    cityData = data[1].find('a', href=True, recursive=False)\n",
        "    visitorsData = data[2].getText()\n",
        "\n",
        "    #Remove <sup> tag\n",
        "    data[3].find('sup').decompose()\n",
        "    referenceYearData = data[3].getText()\n",
        "\n",
        "    #Assign data to correct column\n",
        "    museumName = museumNameData.getText()\n",
        "    self.museumNames.append(museumName)\n",
        "    museumNameRef = museumNameData[\"href\"]\n",
        "    self.museumNamesRef.append(museumNameRef)\n",
        "\n",
        "    city = cityData.getText()\n",
        "    self.cities.append(city)\n",
        "    cityRef = cityData[\"href\"]\n",
        "    self.citiesRef.append(cityRef)\n",
        "\n",
        "    visitorsData = visitorsData.replace(',','')\n",
        "    nbVisitorsForMuseum = eval(visitorsData)\n",
        "    self.nbVisitors.append(nbVisitorsForMuseum)\n",
        "\n",
        "    referenceYear = int(referenceYearData)\n",
        "    self.referenceYears.append(referenceYear)\n",
        "\n",
        "\n",
        "  def addWikibaseIds(self, idsDict):\n",
        "\n",
        "    wikiTable.pdTable[\"WikibaseId\"] = \"\"\n",
        "\n",
        "    for index, row in self.pdTable.iterrows():\n",
        "      wikibaseId = idsDict[self.pdTable.at[index,\"CityRef\"]]\n",
        "      self.pdTable.at[index, \"WikibaseId\"] = wikibaseId\n",
        "\n",
        "  def assignPopulation(self, populationDict):\n",
        "    wikiTable.pdTable[\"Population\"] = \"\"\n",
        "\n",
        "    for index, row in self.pdTable.iterrows():\n",
        "      population = populationDict[self.pdTable.at[index,\"WikibaseId\"]]\n",
        "      self.pdTable.at[index, \"Population\"] = population\n"
      ],
      "execution_count": 0,
      "outputs": []
    },
    {
      "cell_type": "code",
      "metadata": {
        "id": "rGjYxD3HY2zQ",
        "colab_type": "code",
        "colab": {}
      },
      "source": [
        "museumsRequest = requests.get('https://en.wikipedia.org/w/api.php?action=parse&page=List_of_most_visited_museums&prop=text&format=json')\n",
        "page_content = museumsRequest.json()\n",
        "page_html = page_content[\"parse\"][\"text\"][\"*\"]\n",
        "soup = BeautifulSoup(page_html)\n",
        "table = soup.find('table',{'class':'wikitable sortable'})\n",
        "wikiTable = WikipediaTable(table)"
      ],
      "execution_count": 0,
      "outputs": []
    },
    {
      "cell_type": "code",
      "metadata": {
        "id": "tWnrQrSxJGfp",
        "colab_type": "code",
        "colab": {}
      },
      "source": [
        "#Load wiki data for wach city from the article\n",
        "#Query population data for correct year\n",
        "#If year not available, "
      ],
      "execution_count": 0,
      "outputs": []
    },
    {
      "cell_type": "code",
      "metadata": {
        "id": "qkmMaf9LARl_",
        "colab_type": "code",
        "colab": {}
      },
      "source": [
        "def findWikibaseItemFromArticleName(articleName):\n",
        "  wikibaseIdURL = \"https://www.wikidata.org/w/api.php?action=wbgetentities&sites=enwiki&titles={}&props=descriptions&languages=en&format=json\".format(articleName)\n",
        "  wikibaseRequest = requests.get(wikibaseIdURL)\n",
        "\n",
        "  wikibaseJson = wikibaseRequest.json()\n",
        "  wikibaseEntities = wikibaseJson['entities']\n",
        "  wikibaseItem = list(wikibaseEntities)[0]\n",
        "\n",
        "  return wikibaseItem"
      ],
      "execution_count": 0,
      "outputs": []
    },
    {
      "cell_type": "code",
      "metadata": {
        "id": "WfVzxVN6JGp2",
        "colab_type": "code",
        "colab": {}
      },
      "source": [
        "cityWikibaseIds = {}\n",
        "\n",
        "for index, museum in wikiTable.pdTable.iterrows():\n",
        "  cityRefOriginal = museum['CityRef']\n",
        "  cityRef = cityRefOriginal.replace('/wiki/','')\n",
        "\n",
        "  if cityRefOriginal not in cityWikibaseIds:\n",
        "\n",
        "    wikibaseItem = findWikibaseItemFromArticleName(cityRef)\n",
        "\n",
        "    if wikibaseItem == \"-1\":\n",
        "\n",
        "      pageIdURL = \"https://en.wikipedia.org/w/api.php?action=query&prop=pageprops&titles={}&format=json\".format(cityRef)\n",
        "      pageIdRequest = requests.get(pageIdURL)\n",
        "      pageIdJson = pageIdRequest.json()\n",
        "      pages = pageIdJson[\"query\"]['pages']\n",
        "      pageId = list(pages)[0]\n",
        "\n",
        "      redirectUrl = \"https://en.wikipedia.org/w/api.php?action=query&format=json&pageids={}&redirects\".format(pageId)\n",
        "      redirectRequest = requests.get(redirectUrl)\n",
        "      redirectJson = redirectRequest.json()\n",
        "\n",
        "      redirectsTo = redirectJson[\"query\"]['redirects'][0]['to']\n",
        "      formattedRedirect = redirectsTo.replace(' ', '_')\n",
        "\n",
        "      wikibaseItem = findWikibaseItemFromArticleName(formattedRedirect)\n",
        "\n",
        "\n",
        "    cityWikibaseIds[cityRefOriginal] = wikibaseItem\n",
        "\n",
        "\n",
        "wikiTable.addWikibaseIds(cityWikibaseIds)"
      ],
      "execution_count": 0,
      "outputs": []
    },
    {
      "cell_type": "code",
      "metadata": {
        "id": "ebexLmNcrITH",
        "colab_type": "code",
        "colab": {}
      },
      "source": [
        "class WikipediaDateParser():\n",
        "\n",
        "  def parse(stringDate):\n",
        "    \n",
        "    #Remove + at beginning\n",
        "    stringDate = stringDate[1:]\n",
        "\n",
        "    month = stringDate[5:7]\n",
        "    day = stringDate[8:10]\n",
        "\n",
        "    if(month == \"00\"):\n",
        "      stringDate = stringDate[:5] + \"01\" + stringDate[7:]\n",
        "    if(day == \"00\"):\n",
        "      stringDate = stringDate[:8] + \"01\" + stringDate[10:]\n",
        "\n",
        "\n",
        "    return datetime.strptime(stringDate,'%Y-%m-%dT%H:%M:%SZ')\n",
        "\n"
      ],
      "execution_count": 0,
      "outputs": []
    },
    {
      "cell_type": "code",
      "metadata": {
        "id": "a6CO1AjydCJh",
        "colab_type": "code",
        "colab": {}
      },
      "source": [
        "populationDict = {}\n",
        "\n",
        "for id in cityWikibaseIds.values():\n",
        "  populationRequest = requests.get(\"https://www.wikidata.org/w/api.php?action=wbgetentities&ids={}&format=json\".format(id))\n",
        "  populationJson = populationRequest.json()\n",
        "  entities = populationJson[\"entities\"]\n",
        "  entity = entities[list(entities)[0]]\n",
        "  claims = entity[\"claims\"]\n",
        "  populationData = claims[\"P1082\"]\n",
        "\n",
        "  preferredData = None\n",
        "  newestData = None\n",
        "  newestDate = WikipediaDateParser.parse('+0001-01-01T00:00:00Z')\n",
        "  highestPopulation = 0\n",
        "  preferredFound = False\n",
        "\n",
        "  for data in populationData:\n",
        "    if(data[\"rank\"] == \"preferred\"):\n",
        "      preferredData = data\n",
        "      preferredFound = True\n",
        "\n",
        "    currentPopulationString = data['mainsnak']['datavalue']['value']['amount']\n",
        "    currentPopulation = eval(currentPopulationString)\n",
        "\n",
        "    if(currentPopulation > highestPopulation):\n",
        "      highestPopulation = currentPopulation\n",
        "\n",
        "    #Check if date is more recent than newest\n",
        "    try:\n",
        "      dates = data['qualifiers']['P585']\n",
        "    except:\n",
        "      #Mmeans that there is no date available for this population data\n",
        "      continue\n",
        "\n",
        "    date = list(dates)[0]\n",
        "    stringDate = date['datavalue']['value']['time']\n",
        "    currentDate = WikipediaDateParser.parse(stringDate)\n",
        "    dateDelta = newestDate - currentDate\n",
        "\n",
        "    emptyDelta = timedelta()\n",
        "    if(dateDelta<emptyDelta):\n",
        "      newestDate = currentDate\n",
        "      newestData = data\n",
        "\n",
        "    elif(dateDelta == emptyDelta):\n",
        "      newestPopulationString = newestData['mainsnak']['datavalue']['value']['amount']\n",
        "      newestPopulation = eval(newestPopulationString)\n",
        "\n",
        "      if(currentPopulation>newestPopulation):\n",
        "        newestDate = currentDate\n",
        "        newestData = data\n",
        "\n",
        "  if preferredFound:\n",
        "    populationString = preferredData['mainsnak']['datavalue']['value']['amount']\n",
        "    population = eval(populationString)\n",
        "  else:\n",
        "    if(newestData is not None):\n",
        "      populationString = newestData['mainsnak']['datavalue']['value']['amount']\n",
        "      population = eval(populationString)\n",
        "    else:\n",
        "      population = highestPopulation\n",
        "\n",
        "  populationDict[id] = population\n",
        "\n",
        "\n",
        "wikiTable.assignPopulation(populationDict)"
      ],
      "execution_count": 0,
      "outputs": []
    },
    {
      "cell_type": "code",
      "metadata": {
        "id": "4Qzth78xrIQj",
        "colab_type": "code",
        "colab": {
          "base_uri": "https://localhost:8080/",
          "height": 419
        },
        "outputId": "eeda9639-0521-44f2-a555-2ca7da66f70f"
      },
      "source": [
        "wikiTable.pdTable"
      ],
      "execution_count": 293,
      "outputs": [
        {
          "output_type": "execute_result",
          "data": {
            "text/html": [
              "<div>\n",
              "<style scoped>\n",
              "    .dataframe tbody tr th:only-of-type {\n",
              "        vertical-align: middle;\n",
              "    }\n",
              "\n",
              "    .dataframe tbody tr th {\n",
              "        vertical-align: top;\n",
              "    }\n",
              "\n",
              "    .dataframe thead th {\n",
              "        text-align: right;\n",
              "    }\n",
              "</style>\n",
              "<table border=\"1\" class=\"dataframe\">\n",
              "  <thead>\n",
              "    <tr style=\"text-align: right;\">\n",
              "      <th></th>\n",
              "      <th>MuseumName</th>\n",
              "      <th>MuseumNameRef</th>\n",
              "      <th>City</th>\n",
              "      <th>CityRef</th>\n",
              "      <th>VisitorsPerYear</th>\n",
              "      <th>ReferenceYear</th>\n",
              "      <th>WikibaseId</th>\n",
              "      <th>Population</th>\n",
              "    </tr>\n",
              "  </thead>\n",
              "  <tbody>\n",
              "    <tr>\n",
              "      <th>0</th>\n",
              "      <td>Louvre</td>\n",
              "      <td>/wiki/Louvre</td>\n",
              "      <td>Paris</td>\n",
              "      <td>/wiki/Paris</td>\n",
              "      <td>10200000</td>\n",
              "      <td>2018</td>\n",
              "      <td>Q90</td>\n",
              "      <td>2187526</td>\n",
              "    </tr>\n",
              "    <tr>\n",
              "      <th>1</th>\n",
              "      <td>National Museum of China</td>\n",
              "      <td>/wiki/National_Museum_of_China</td>\n",
              "      <td>Beijing</td>\n",
              "      <td>/wiki/Beijing</td>\n",
              "      <td>8610092</td>\n",
              "      <td>2018</td>\n",
              "      <td>Q956</td>\n",
              "      <td>21710000</td>\n",
              "    </tr>\n",
              "    <tr>\n",
              "      <th>2</th>\n",
              "      <td>Metropolitan Museum of Art</td>\n",
              "      <td>/wiki/Metropolitan_Museum_of_Art</td>\n",
              "      <td>New York City</td>\n",
              "      <td>/wiki/New_York_City</td>\n",
              "      <td>6953927</td>\n",
              "      <td>2018</td>\n",
              "      <td>Q60</td>\n",
              "      <td>8398748</td>\n",
              "    </tr>\n",
              "    <tr>\n",
              "      <th>3</th>\n",
              "      <td>Vatican Museums</td>\n",
              "      <td>/wiki/Vatican_Museums</td>\n",
              "      <td>Vatican City</td>\n",
              "      <td>/wiki/Vatican_City</td>\n",
              "      <td>6756186</td>\n",
              "      <td>2018</td>\n",
              "      <td>Q237</td>\n",
              "      <td>1000</td>\n",
              "    </tr>\n",
              "    <tr>\n",
              "      <th>4</th>\n",
              "      <td>National Air and Space Museum</td>\n",
              "      <td>/wiki/National_Air_and_Space_Museum</td>\n",
              "      <td>Washington, D.C.</td>\n",
              "      <td>/wiki/Washington,_D.C.</td>\n",
              "      <td>6200000</td>\n",
              "      <td>2018</td>\n",
              "      <td>Q61</td>\n",
              "      <td>672228</td>\n",
              "    </tr>\n",
              "    <tr>\n",
              "      <th>...</th>\n",
              "      <td>...</td>\n",
              "      <td>...</td>\n",
              "      <td>...</td>\n",
              "      <td>...</td>\n",
              "      <td>...</td>\n",
              "      <td>...</td>\n",
              "      <td>...</td>\n",
              "      <td>...</td>\n",
              "    </tr>\n",
              "    <tr>\n",
              "      <th>57</th>\n",
              "      <td>Van Gogh Museum</td>\n",
              "      <td>/wiki/Van_Gogh_Museum</td>\n",
              "      <td>Amsterdam</td>\n",
              "      <td>/wiki/Amsterdam</td>\n",
              "      <td>2161160</td>\n",
              "      <td>2018</td>\n",
              "      <td>Q727</td>\n",
              "      <td>860124</td>\n",
              "    </tr>\n",
              "    <tr>\n",
              "      <th>58</th>\n",
              "      <td>Tretyakov Gallery</td>\n",
              "      <td>/wiki/Tretyakov_Gallery</td>\n",
              "      <td>Moscow</td>\n",
              "      <td>/wiki/Moscow</td>\n",
              "      <td>2148538</td>\n",
              "      <td>2018</td>\n",
              "      <td>Q649</td>\n",
              "      <td>12500123</td>\n",
              "    </tr>\n",
              "    <tr>\n",
              "      <th>59</th>\n",
              "      <td>Shanghai Museum</td>\n",
              "      <td>/wiki/Shanghai_Museum</td>\n",
              "      <td>Shanghai</td>\n",
              "      <td>/wiki/Shanghai</td>\n",
              "      <td>2111730</td>\n",
              "      <td>2018</td>\n",
              "      <td>Q8686</td>\n",
              "      <td>23390000</td>\n",
              "    </tr>\n",
              "    <tr>\n",
              "      <th>60</th>\n",
              "      <td>Auschwitz-Birkenau State Museum</td>\n",
              "      <td>/wiki/Auschwitz-Birkenau_State_Museum</td>\n",
              "      <td>Oświęcim</td>\n",
              "      <td>/wiki/O%C5%9Bwi%C4%99cim</td>\n",
              "      <td>2100000</td>\n",
              "      <td>2018</td>\n",
              "      <td>Q7342</td>\n",
              "      <td>39057</td>\n",
              "    </tr>\n",
              "    <tr>\n",
              "      <th>61</th>\n",
              "      <td>National Folk Museum of Korea</td>\n",
              "      <td>/wiki/National_Folk_Museum_of_Korea</td>\n",
              "      <td>Seoul</td>\n",
              "      <td>/wiki/Seoul</td>\n",
              "      <td>2054719</td>\n",
              "      <td>2018</td>\n",
              "      <td>Q8684</td>\n",
              "      <td>9806538</td>\n",
              "    </tr>\n",
              "  </tbody>\n",
              "</table>\n",
              "<p>62 rows × 8 columns</p>\n",
              "</div>"
            ],
            "text/plain": [
              "                         MuseumName  ... Population\n",
              "0                            Louvre  ...    2187526\n",
              "1          National Museum of China  ...   21710000\n",
              "2        Metropolitan Museum of Art  ...    8398748\n",
              "3                   Vatican Museums  ...       1000\n",
              "4     National Air and Space Museum  ...     672228\n",
              "..                              ...  ...        ...\n",
              "57                  Van Gogh Museum  ...     860124\n",
              "58                Tretyakov Gallery  ...   12500123\n",
              "59                  Shanghai Museum  ...   23390000\n",
              "60  Auschwitz-Birkenau State Museum  ...      39057\n",
              "61    National Folk Museum of Korea  ...    9806538\n",
              "\n",
              "[62 rows x 8 columns]"
            ]
          },
          "metadata": {
            "tags": []
          },
          "execution_count": 293
        }
      ]
    },
    {
      "cell_type": "markdown",
      "metadata": {
        "id": "C_wgemeSQ8Bd",
        "colab_type": "text"
      },
      "source": [
        "# Machine Learning\n"
      ]
    },
    {
      "cell_type": "code",
      "metadata": {
        "id": "6TxJFXBqfEfS",
        "colab_type": "code",
        "colab": {}
      },
      "source": [
        "class CustomLinearRegression():\n",
        "\n",
        "  def __init__(self, learning_rate=0.005, maxNbIterations=500, epsilon=0.001):\n",
        "    self.learning_rate = learning_rate\n",
        "    self.maxNbIterations = maxNbIterations\n",
        "    self.epsilon = epsilon\n",
        "\n",
        "  def fit(self, X, Y):\n",
        "    self.coeff = 0\n",
        "    self.intercept = 0\n",
        "\n",
        "    self.loss = self.score(X,Y)\n",
        "\n",
        "    for i in range (self.maxNbIterations):\n",
        "      print(\"Iteration: {}\".format(i))\n",
        "\n",
        "      Y_preds = self.predict(X)\n",
        "\n",
        "      d_coeff = 0\n",
        "      d_intercept = 0\n",
        "\n",
        "      for j in range(len(X)):\n",
        "        x = X[j]\n",
        "        y = Y[j]\n",
        "        y_pred = Y_preds[j]\n",
        "\n",
        "        d_coeff -= x*(y-y_pred)\n",
        "        d_intercept -= (y-y_pred)\n",
        "\n",
        "      d_coeff = (-2/len(X))*d_coeff\n",
        "      d_intercept = (-2/len(X))*d_intercept\n",
        "\n",
        "      self.coeff += d_coeff*self.learning_rate\n",
        "      self.intercept += d_intercept*self.learning_rate\n",
        "\n",
        "      print(\"Coefficient derivative: {}\".format(d_coeff))\n",
        "      print(\"Intercept derivative: {}\".format(d_intercept))\n",
        "      print(\"Coefficient: {}\".format(self.coeff))\n",
        "      print(\"Intercept: {}\".format(self.intercept))    \n",
        "\n",
        "      currentLoss = self.score(X, Y)\n",
        "      print(\"Loss: {}\".format(currentLoss))  \n",
        "\n",
        "      if(abs(self.loss-currentLoss)<self.epsilon):\n",
        "        break\n",
        "      \n",
        "      self.loss = currentLoss\n",
        "\n",
        "    return self.loss\n",
        "\n",
        "  def predict(self, X):\n",
        "    y = []\n",
        "    for x in X:\n",
        "      y_pred = self.coeff*x+self.intercept\n",
        "      y.append(y_pred)\n",
        "\n",
        "    return y\n",
        "\n",
        "  def score(self, X, Y):\n",
        "    loss = 0\n",
        "\n",
        "    for i in range(len(X)):\n",
        "      x = X[i]\n",
        "      y = Y[i]\n",
        "      y_pred = self.predict(x)[0]\n",
        "\n",
        "      loss += (y-y_pred)**2\n",
        "\n",
        "    loss/=len(X)\n",
        "    return loss\n"
      ],
      "execution_count": 0,
      "outputs": []
    },
    {
      "cell_type": "code",
      "metadata": {
        "id": "dRjJvsGyPJ-z",
        "colab_type": "code",
        "colab": {}
      },
      "source": [
        "attendance = wikiTable.pdTable[\"VisitorsPerYear\"].to_numpy()\n",
        "population = wikiTable.pdTable[\"Population\"].to_numpy()\n",
        "\n",
        "attendance = attendance.reshape(-1,1)\n",
        "population = population.reshape(-1,1)\n",
        "population = np.divide(population, 1000000)\n",
        "attendance = np.divide(attendance, 1000000)"
      ],
      "execution_count": 0,
      "outputs": []
    },
    {
      "cell_type": "code",
      "metadata": {
        "id": "nsYgICk_fEsK",
        "colab_type": "code",
        "colab": {}
      },
      "source": [
        "regr = CustomLinearRegression()\n",
        "\n",
        "regr.fit(population, attendance) \n",
        "print(regr.score(population, attendance)) "
      ],
      "execution_count": 0,
      "outputs": []
    },
    {
      "cell_type": "code",
      "metadata": {
        "id": "KqhJuOAWfEqr",
        "colab_type": "code",
        "colab": {
          "base_uri": "https://localhost:8080/",
          "height": 295
        },
        "outputId": "948be18c-b66a-4b7a-9e09-6345e8956d9f"
      },
      "source": [
        "x_pred = [min(population),max(population)]\n",
        "y_pred = regr.predict(x_pred) \n",
        "plt.scatter(population, attendance, color ='b') \n",
        "plt.plot(x_pred, y_pred, color ='k') \n",
        "\n",
        "plt.title(\"Number of visitors with respect to city population\")\n",
        "plt.xlabel(\"City population (millions)\")\n",
        "plt.ylabel(\"Museum attendance (millions)\")\n",
        "\n",
        "plt.show() "
      ],
      "execution_count": 297,
      "outputs": [
        {
          "output_type": "display_data",
          "data": {
            "image/png": "[encoded data removed]",
            "text/plain": [
              "<Figure size 432x288 with 1 Axes>"
            ]
          },
          "metadata": {
            "tags": []
          }
        }
      ]
    },
    {
      "cell_type": "code",
      "metadata": {
        "id": "_noy5b5HfEm3",
        "colab_type": "code",
        "colab": {}
      },
      "source": [
        ""
      ],
      "execution_count": 0,
      "outputs": []
    },
    {
      "cell_type": "code",
      "metadata": {
        "id": "EhUE38QJfEib",
        "colab_type": "code",
        "colab": {}
      },
      "source": [
        ""
      ],
      "execution_count": 0,
      "outputs": []
    },
    {
      "cell_type": "code",
      "metadata": {
        "id": "0doZ8AB8fEdf",
        "colab_type": "code",
        "colab": {}
      },
      "source": [
        ""
      ],
      "execution_count": 0,
      "outputs": []
    },
    {
      "cell_type": "code",
      "metadata": {
        "id": "C6bXPTMcfEcO",
        "colab_type": "code",
        "colab": {}
      },
      "source": [
        ""
      ],
      "execution_count": 0,
      "outputs": []
    },
    {
      "cell_type": "code",
      "metadata": {
        "id": "VrarHL3YfEZL",
        "colab_type": "code",
        "colab": {}
      },
      "source": [
        ""
      ],
      "execution_count": 0,
      "outputs": []
    },
    {
      "cell_type": "code",
      "metadata": {
        "id": "OVqVLfXdfEUh",
        "colab_type": "code",
        "colab": {}
      },
      "source": [
        ""
      ],
      "execution_count": 0,
      "outputs": []
    },
    {
      "cell_type": "code",
      "metadata": {
        "id": "w3t5NGT1fEP-",
        "colab_type": "code",
        "colab": {}
      },
      "source": [
        ""
      ],
      "execution_count": 0,
      "outputs": []
    },
    {
      "cell_type": "code",
      "metadata": {
        "id": "Bdg8U2aVfEMz",
        "colab_type": "code",
        "colab": {}
      },
      "source": [
        ""
      ],
      "execution_count": 0,
      "outputs": []
    },
    {
      "cell_type": "code",
      "metadata": {
        "id": "M4VqtbTffEJ8",
        "colab_type": "code",
        "colab": {}
      },
      "source": [
        ""
      ],
      "execution_count": 0,
      "outputs": []
    }
  ]
}